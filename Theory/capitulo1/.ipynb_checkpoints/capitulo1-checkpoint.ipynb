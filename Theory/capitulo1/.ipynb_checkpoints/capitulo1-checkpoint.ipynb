{
 "cells": [
  {
   "cell_type": "markdown",
   "id": "9f7b0e5c",
   "metadata": {},
   "source": [
    "## Nesse capítulo vamos abordar uma introdução ao ao MLOps(Machine Learning Operations), os benefícios, as etapas de um projeto e os perfis de profissionais que normalmente trabalham nesse tipo de abordagem "
   ]
  },
  {
   "cell_type": "markdown",
   "id": "b8f8bd6d",
   "metadata": {},
   "source": []
  },
  {
   "cell_type": "markdown",
   "id": "9ad9755e",
   "metadata": {},
   "source": []
  },
  {
   "cell_type": "markdown",
   "id": "ca1e8d72",
   "metadata": {},
   "source": []
  },
  {
   "cell_type": "markdown",
   "id": "84eaee44",
   "metadata": {},
   "source": []
  },
  {
   "cell_type": "code",
   "execution_count": null,
   "id": "7fc18660",
   "metadata": {},
   "outputs": [],
   "source": []
  },
  {
   "cell_type": "code",
   "execution_count": null,
   "id": "f8dfa463",
   "metadata": {},
   "outputs": [],
   "source": []
  },
  {
   "cell_type": "code",
   "execution_count": null,
   "id": "9c4a7efc",
   "metadata": {},
   "outputs": [],
   "source": []
  },
  {
   "cell_type": "code",
   "execution_count": null,
   "id": "e8197ed4",
   "metadata": {},
   "outputs": [],
   "source": []
  },
  {
   "cell_type": "code",
   "execution_count": null,
   "id": "39b316ee",
   "metadata": {},
   "outputs": [],
   "source": []
  },
  {
   "cell_type": "code",
   "execution_count": null,
   "id": "ccda62d8",
   "metadata": {},
   "outputs": [],
   "source": []
  },
  {
   "cell_type": "code",
   "execution_count": null,
   "id": "1a314611",
   "metadata": {},
   "outputs": [],
   "source": []
  },
  {
   "cell_type": "code",
   "execution_count": null,
   "id": "8871cd67",
   "metadata": {},
   "outputs": [],
   "source": []
  },
  {
   "cell_type": "code",
   "execution_count": null,
   "id": "f9ec752b",
   "metadata": {},
   "outputs": [],
   "source": []
  }
 ],
 "metadata": {
  "kernelspec": {
   "display_name": "Python 3 (ipykernel)",
   "language": "python",
   "name": "python3"
  },
  "language_info": {
   "codemirror_mode": {
    "name": "ipython",
    "version": 3
   },
   "file_extension": ".py",
   "mimetype": "text/x-python",
   "name": "python",
   "nbconvert_exporter": "python",
   "pygments_lexer": "ipython3",
   "version": "3.9.7"
  }
 },
 "nbformat": 4,
 "nbformat_minor": 5
}
