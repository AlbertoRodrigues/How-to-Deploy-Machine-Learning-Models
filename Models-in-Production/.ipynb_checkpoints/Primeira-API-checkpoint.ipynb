{
 "cells": [
  {
   "cell_type": "markdown",
   "id": "562bc9f6",
   "metadata": {},
   "source": [
    "## O que é uma API e porque é importante sabermos dela?\n",
    "\n",
    "### A API (Interface de Programação de Aplicações) é um conjunto de serviços/funções que foram implementadas em um programa de computador que são disponibilizados para que outros programas/aplicativos possam utiliza-los diretamente de forma simplificada; sem envolver-se em detalhes da implementação do programa de computador principal. A API é importante porque é através dela vamos disponibilizar os acessos as predições dos modelos de Machine Learning."
   ]
  },
  {
   "cell_type": "code",
   "execution_count": 1,
   "id": "b99fd881",
   "metadata": {},
   "outputs": [],
   "source": [
    "from flask import Flask"
   ]
  },
  {
   "cell_type": "markdown",
   "id": "80afcf93",
   "metadata": {},
   "source": [
    "## Criando uma API bem simples através da biblioteca Flask"
   ]
  },
  {
   "cell_type": "code",
   "execution_count": 2,
   "id": "be497fed",
   "metadata": {},
   "outputs": [],
   "source": [
    "app = Flask(\"meu_app\")\n",
    "\n",
    "## Definindo a rota\n",
    "@app.route('/')\n",
    "\n",
    "def home():\n",
    "    return \"Minha primeira API\""
   ]
  },
  {
   "cell_type": "code",
   "execution_count": null,
   "id": "a8c640ee",
   "metadata": {},
   "outputs": [
    {
     "name": "stdout",
     "output_type": "stream",
     "text": [
      " * Serving Flask app \"meu_app\" (lazy loading)\n",
      " * Environment: production\n",
      "\u001b[31m   WARNING: This is a development server. Do not use it in a production deployment.\u001b[0m\n",
      "\u001b[2m   Use a production WSGI server instead.\u001b[0m\n",
      " * Debug mode: off\n"
     ]
    },
    {
     "name": "stderr",
     "output_type": "stream",
     "text": [
      " * Running on http://127.0.0.1:5000/ (Press CTRL+C to quit)\n",
      "127.0.0.1 - - [23/Apr/2023 15:16:40] \"GET / HTTP/1.1\" 200 -\n"
     ]
    }
   ],
   "source": [
    "app.run()"
   ]
  }
 ],
 "metadata": {
  "kernelspec": {
   "display_name": "Python 3 (ipykernel)",
   "language": "python",
   "name": "python3"
  },
  "language_info": {
   "codemirror_mode": {
    "name": "ipython",
    "version": 3
   },
   "file_extension": ".py",
   "mimetype": "text/x-python",
   "name": "python",
   "nbconvert_exporter": "python",
   "pygments_lexer": "ipython3",
   "version": "3.9.7"
  }
 },
 "nbformat": 4,
 "nbformat_minor": 5
}
