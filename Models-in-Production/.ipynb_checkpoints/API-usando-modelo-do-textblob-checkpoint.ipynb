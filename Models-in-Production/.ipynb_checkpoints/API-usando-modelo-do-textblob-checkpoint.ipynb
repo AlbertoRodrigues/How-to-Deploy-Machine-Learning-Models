{
 "cells": [
  {
   "cell_type": "code",
   "execution_count": 1,
   "id": "79dcc6c4",
   "metadata": {},
   "outputs": [],
   "source": [
    "from flask import Flask\n",
    "from textblob import TextBlob"
   ]
  },
  {
   "cell_type": "code",
   "execution_count": 2,
   "id": "0013291e",
   "metadata": {},
   "outputs": [],
   "source": [
    "app = Flask(\"meu_app\")"
   ]
  },
  {
   "cell_type": "code",
   "execution_count": 3,
   "id": "15b289e3",
   "metadata": {},
   "outputs": [],
   "source": [
    "## Definindo a rota básica\n",
    "@app.route('/')\n",
    "\n",
    "def home():\n",
    "    return \"Minha primeira API\""
   ]
  },
  {
   "cell_type": "code",
   "execution_count": 4,
   "id": "e56d6c3b",
   "metadata": {},
   "outputs": [],
   "source": [
    "# Definindo uma rota acrescentando sentimento e a frase a ser predita, colocando ela na URL\n",
    "@app.route('/sentimento/<frase>')\n",
    "def sentimento(frase):\n",
    "    return \"Acocha\""
   ]
  },
  {
   "cell_type": "code",
   "execution_count": 5,
   "id": "a4ef557c",
   "metadata": {},
   "outputs": [
    {
     "name": "stdout",
     "output_type": "stream",
     "text": [
      " * Serving Flask app \"meu_app\" (lazy loading)\n",
      " * Environment: production\n",
      "\u001b[31m   WARNING: This is a development server. Do not use it in a production deployment.\u001b[0m\n",
      "\u001b[2m   Use a production WSGI server instead.\u001b[0m\n",
      " * Debug mode: on\n"
     ]
    },
    {
     "name": "stderr",
     "output_type": "stream",
     "text": [
      " * Restarting with watchdog (windowsapi)\n"
     ]
    },
    {
     "ename": "SystemExit",
     "evalue": "1",
     "output_type": "error",
     "traceback": [
      "An exception has occurred, use %tb to see the full traceback.\n",
      "\u001b[1;31mSystemExit\u001b[0m\u001b[1;31m:\u001b[0m 1\n"
     ]
    },
    {
     "name": "stderr",
     "output_type": "stream",
     "text": [
      "C:\\Users\\alber\\anaconda3\\lib\\site-packages\\IPython\\core\\interactiveshell.py:3452: UserWarning: To exit: use 'exit', 'quit', or Ctrl-D.\n",
      "  warn(\"To exit: use 'exit', 'quit', or Ctrl-D.\", stacklevel=1)\n"
     ]
    }
   ],
   "source": [
    "app.run(debug=True)"
   ]
  },
  {
   "cell_type": "code",
   "execution_count": null,
   "id": "4abde292",
   "metadata": {},
   "outputs": [],
   "source": [
    "frase = \"Muito bom\"\n",
    "tb = TextBlob(frase)\n",
    "tb_en = tb.translate(to='en')\n",
    "polaridade = tb_en.sentiment.polarity\n",
    "\"polaridade: {}\".format(polaridade)"
   ]
  },
  {
   "cell_type": "code",
   "execution_count": null,
   "id": "b9f287b1",
   "metadata": {},
   "outputs": [],
   "source": []
  }
 ],
 "metadata": {
  "kernelspec": {
   "display_name": "Python 3 (ipykernel)",
   "language": "python",
   "name": "python3"
  },
  "language_info": {
   "codemirror_mode": {
    "name": "ipython",
    "version": 3
   },
   "file_extension": ".py",
   "mimetype": "text/x-python",
   "name": "python",
   "nbconvert_exporter": "python",
   "pygments_lexer": "ipython3",
   "version": "3.9.7"
  }
 },
 "nbformat": 4,
 "nbformat_minor": 5
}
